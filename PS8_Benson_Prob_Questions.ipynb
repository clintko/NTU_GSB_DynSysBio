{
 "cells": [
  {
   "cell_type": "code",
   "execution_count": 2,
   "metadata": {
    "collapsed": false
   },
   "outputs": [],
   "source": [
    "import numpy as np\n",
    "from scipy.misc import comb"
   ]
  },
  {
   "cell_type": "code",
   "execution_count": 10,
   "metadata": {
    "collapsed": false
   },
   "outputs": [],
   "source": [
    "def prob1():\n",
    "    return comb(30, 15) * 0.7**15 * 0.3**15\n",
    "\n",
    "def prob2():\n",
    "    prob = 0\n",
    "    for k in np.arange(10, 16): # k = 10..15\n",
    "        prob += ( prob2_01(k) * prob2_02(k) )\n",
    "        \n",
    "    return prob\n",
    "\n",
    "def prob2_01(k):\n",
    "    assert 10 <=k & k <= 15\n",
    "    \n",
    "    prob = 0\n",
    "    for j in np.arange(10, 31):  # j = 10..30\n",
    "        prob += ( comb(30, j) * 0.6**j * 0.4**(30-j) + comb(j, k) * 0.5**k * 0.5**(j-k) )\n",
    "    \n",
    "    return prob\n",
    "\n",
    "def prob2_02(k):\n",
    "    assert 10 <=k & k <= 15\n",
    "    return comb(k, 10) * 0.1**10 * 0.9**(k-10)"
   ]
  },
  {
   "cell_type": "code",
   "execution_count": 12,
   "metadata": {
    "collapsed": false
   },
   "outputs": [
    {
     "data": {
      "text/plain": [
       "6.070560089164014e-09"
      ]
     },
     "execution_count": 12,
     "metadata": {},
     "output_type": "execute_result"
    }
   ],
   "source": [
    "prob = prob1() * prob2()  \n",
    "prob"
   ]
  },
  {
   "cell_type": "code",
   "execution_count": 16,
   "metadata": {
    "collapsed": false
   },
   "outputs": [],
   "source": [
    "def probKSuccess(k, n=10):\n",
    "    p = 0.06 * np.e**0.5\n",
    "    return comb(n, k) * p**k * (1-p)**(n-k)\n",
    "\n",
    "def expectMoney():\n",
    "    mu = 0\n",
    "    for k in np.arange(1, 11): # k=1..10\n",
    "        mu += sum([1000 * 2**i for i in range(k)]) * probKSuccess(k)\n",
    "        \n",
    "    return mu"
   ]
  },
  {
   "cell_type": "code",
   "execution_count": 18,
   "metadata": {
    "collapsed": false
   },
   "outputs": [
    {
     "data": {
      "text/plain": [
       "1568.4654168009199"
      ]
     },
     "execution_count": 18,
     "metadata": {},
     "output_type": "execute_result"
    }
   ],
   "source": [
    "expectMoney()"
   ]
  },
  {
   "cell_type": "code",
   "execution_count": 15,
   "metadata": {
    "collapsed": false
   },
   "outputs": [
    {
     "data": {
      "text/plain": [
       "[1000, 2000, 4000, 8000, 16000, 32000, 64000, 128000, 256000, 512000]"
      ]
     },
     "execution_count": 15,
     "metadata": {},
     "output_type": "execute_result"
    }
   ],
   "source": [
    "[1000 * 2**i for i in range(10)]"
   ]
  },
  {
   "cell_type": "code",
   "execution_count": null,
   "metadata": {
    "collapsed": true
   },
   "outputs": [],
   "source": []
  },
  {
   "cell_type": "code",
   "execution_count": null,
   "metadata": {
    "collapsed": true
   },
   "outputs": [],
   "source": []
  }
 ],
 "metadata": {
  "kernelspec": {
   "display_name": "Python 3",
   "language": "python",
   "name": "python3"
  },
  "language_info": {
   "codemirror_mode": {
    "name": "ipython",
    "version": 3
   },
   "file_extension": ".py",
   "mimetype": "text/x-python",
   "name": "python",
   "nbconvert_exporter": "python",
   "pygments_lexer": "ipython3",
   "version": "3.4.3"
  }
 },
 "nbformat": 4,
 "nbformat_minor": 0
}
