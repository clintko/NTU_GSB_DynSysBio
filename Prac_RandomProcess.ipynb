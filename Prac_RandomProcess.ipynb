{
 "cells": [
  {
   "cell_type": "code",
   "execution_count": 1,
   "metadata": {
    "collapsed": true
   },
   "outputs": [],
   "source": [
    "from scipy import stats\n",
    "import numpy as np\n",
    "import matplotlib.pyplot as plt\n",
    "%matplotlib inline"
   ]
  },
  {
   "cell_type": "markdown",
   "metadata": {},
   "source": [
    "## Bernoulli Process and Poisson Process"
   ]
  },
  {
   "cell_type": "code",
   "execution_count": 88,
   "metadata": {
    "collapsed": false
   },
   "outputs": [
    {
     "data": {
      "text/plain": [
       "(-0.5, 2000)"
      ]
     },
     "execution_count": 88,
     "metadata": {},
     "output_type": "execute_result"
    },
    {
     "data": {
      "image/png": "[encoded data removed]",
      "text/plain": [
       "<matplotlib.figure.Figure at 0x82bb940>"
      ]
     },
     "metadata": {},
     "output_type": "display_data"
    }
   ],
   "source": [
    "n = 2000\n",
    "\n",
    "# generate a random Bernoulli process\n",
    "prob1 = 0.2\n",
    "x1 = stats.bernoulli.rvs(prob1, size = n)\n",
    "\n",
    "# generate a random Bernoulli process\n",
    "prob2 = 0.001\n",
    "x2 = stats.bernoulli.rvs(prob2, size = n)\n",
    "\n",
    "# plot the process\n",
    "fig, ax = plt.subplots(2, 1, figsize=(10,5))\n",
    "plt.subplots_adjust(hspace = 1)\n",
    "\n",
    "ax[0].set_title(\"Bernoulli Process p = \" + str(prob1))\n",
    "ax[0].plot(range(n), x1, 'ro', markersize=1)\n",
    "ax[0].set_ylim(-0.5, 3)\n",
    "ax[0].set_xlim(-0.5, n)\n",
    "\n",
    "ax[1].set_title(\"Bernoulli Process p = \" + str(prob2))\n",
    "ax[1].plot(range(n), x2, 'ro', markersize=1)\n",
    "ax[1].set_ylim(-0.5, 3)\n",
    "ax[1].set_xlim(-0.5, n)"
   ]
  },
  {
   "cell_type": "markdown",
   "metadata": {},
   "source": [
    "## Intervals"
   ]
  },
  {
   "cell_type": "code",
   "execution_count": 94,
   "metadata": {
    "collapsed": false
   },
   "outputs": [
    {
     "data": {
      "text/plain": [
       "(0, 0.5)"
      ]
     },
     "execution_count": 94,
     "metadata": {},
     "output_type": "execute_result"
    },
    {
     "data": {
      "image/png": "[encoded data removed]",
      "text/plain": [
       "<matplotlib.figure.Figure at 0x84547b8>"
      ]
     },
     "metadata": {},
     "output_type": "display_data"
    }
   ],
   "source": [
    "intervals = list()\n",
    "\n",
    "# generate a random Bernoulli process\n",
    "prob1 = 0.2\n",
    "x1 = stats.bernoulli.rvs(prob1, size = n)\n",
    "\n",
    "tmp_idx = 0\n",
    "for cur_idx in range(len(x1)):\n",
    "    \n",
    "    if x1[cur_idx] == 1:\n",
    "        intervals.append(cur_idx - tmp_idx)\n",
    "        tmp_idx = cur_idx\n",
    "        \n",
    "#\n",
    "fig, ax = plt.subplots(1, 1)\n",
    "ax.hist(intervals, normed=True)\n",
    "ax.set_ylim(0,0.5)"
   ]
  },
  {
   "cell_type": "markdown",
   "metadata": {
    "collapsed": true
   },
   "source": [
    "## Number of success in a Time Intervals (Binomial and Poisson)"
   ]
  },
  {
   "cell_type": "code",
   "execution_count": 100,
   "metadata": {
    "collapsed": false
   },
   "outputs": [
    {
     "data": {
      "text/plain": [
       "(array([ 0.00027237,  0.00077821,  0.00307393,  0.00599222,  0.01019455,\n",
       "         0.00968872,  0.00552529,  0.00233463,  0.00081712,  0.00023346]),\n",
       " array([ 1873. ,  1898.7,  1924.4,  1950.1,  1975.8,  2001.5,  2027.2,\n",
       "         2052.9,  2078.6,  2104.3,  2130. ]),\n",
       " <a list of 10 Patch objects>)"
      ]
     },
     "execution_count": 100,
     "metadata": {},
     "output_type": "execute_result"
    },
    {
     "data": {
      "image/png": "[encoded data removed]",
      "text/plain": [
       "<matplotlib.figure.Figure at 0x9d9f438>"
      ]
     },
     "metadata": {},
     "output_type": "display_data"
    }
   ],
   "source": [
    "iterations = 1000\n",
    "prob = 0.2\n",
    "n = 10000\n",
    "\n",
    "successNum = list()\n",
    "\n",
    "for dummyNum in range(iterations):\n",
    "    x = stats.bernoulli.rvs(prob, size = n)\n",
    "    successNum.append(sum(x))\n",
    "\n",
    "successNum = np.array(successNum)\n",
    "\n",
    "#\n",
    "fig, ax = plt.subplots(1, 1)\n",
    "ax.hist(successNum, normed=True)"
   ]
  },
  {
   "cell_type": "code",
   "execution_count": 105,
   "metadata": {
    "collapsed": false
   },
   "outputs": [
    {
     "data": {
      "text/plain": [
       "(array([ 0.16444444,  0.28444444,  0.30222222,  0.19777778,  0.10444444,\n",
       "         0.04222222,  0.01222222,  0.00111111,  0.        ,  0.00222222]),\n",
       " array([ 0. ,  0.9,  1.8,  2.7,  3.6,  4.5,  5.4,  6.3,  7.2,  8.1,  9. ]),\n",
       " <a list of 10 Patch objects>)"
      ]
     },
     "execution_count": 105,
     "metadata": {},
     "output_type": "execute_result"
    },
    {
     "data": {
      "image/png": "[encoded data removed]",
      "text/plain": [
       "<matplotlib.figure.Figure at 0x84036a0>"
      ]
     },
     "metadata": {},
     "output_type": "display_data"
    }
   ],
   "source": [
    "iterations = 1000\n",
    "prob = 0.0002\n",
    "n = 10000\n",
    "\n",
    "successNum = list()\n",
    "\n",
    "for dummyNum in range(iterations):\n",
    "    x = stats.bernoulli.rvs(prob, size = n)\n",
    "    successNum.append(sum(x))\n",
    "\n",
    "successNum = np.array(successNum)\n",
    "\n",
    "#\n",
    "fig, ax = plt.subplots(1, 1)\n",
    "ax.hist(successNum, normed=True)"
   ]
  },
  {
   "cell_type": "code",
   "execution_count": 108,
   "metadata": {
    "collapsed": false
   },
   "outputs": [
    {
     "data": {
      "text/plain": [
       "(array([ 0.1308,  0.277 ,  0.2724,  0.1803,  0.0877,  0.0358,  0.0115,\n",
       "         0.0032,  0.0009,  0.0004]),\n",
       " array([  0.,   1.,   2.,   3.,   4.,   5.,   6.,   7.,   8.,   9.,  10.]),\n",
       " <a list of 10 Patch objects>)"
      ]
     },
     "execution_count": 108,
     "metadata": {},
     "output_type": "execute_result"
    },
    {
     "data": {
      "image/png": "[encoded data removed]",
      "text/plain": [
       "<matplotlib.figure.Figure at 0x842b0b8>"
      ]
     },
     "metadata": {},
     "output_type": "display_data"
    }
   ],
   "source": [
    "randPoi = stats.poisson.rvs(prob * n, size = n)\n",
    "\n",
    "#\n",
    "fig, ax = plt.subplots(1, 1)\n",
    "ax.hist(randPoi, normed=True)"
   ]
  },
  {
   "cell_type": "markdown",
   "metadata": {},
   "source": [
    "## Model the Bernoulli Process and Poisson Process using Geometric and Exponential Random variables"
   ]
  },
  {
   "cell_type": "code",
   "execution_count": 6,
   "metadata": {
    "collapsed": false
   },
   "outputs": [
    {
     "data": {
      "text/plain": [
       "array([ 1,  5, 10,  3,  1, 11,  3,  7,  5,  5])"
      ]
     },
     "execution_count": 6,
     "metadata": {},
     "output_type": "execute_result"
    }
   ],
   "source": [
    "n = 10\n",
    "prob1 = 0.2\n",
    "intervals = stats.geom.rvs(prob1, size = n)\n",
    "\n",
    "intervals"
   ]
  },
  {
   "cell_type": "code",
   "execution_count": 10,
   "metadata": {
    "collapsed": false
   },
   "outputs": [],
   "source": [
    "timePoint = range(n)\n",
    "x1 = []\n",
    "for idx in range(n):\n",
    "    x1.append(sum(intervals[0:idx]))\n",
    "\n",
    "x1 = [sum(intervals[0:idx]) for idx in range(n)]\n",
    "output = [1 for dummyNum in range(n)]"
   ]
  },
  {
   "cell_type": "code",
   "execution_count": 17,
   "metadata": {
    "collapsed": false
   },
   "outputs": [
    {
     "data": {
      "text/plain": [
       "(0, 1.5)"
      ]
     },
     "execution_count": 17,
     "metadata": {},
     "output_type": "execute_result"
    },
    {
     "data": {
      "image/png": "[encoded data removed]",
      "text/plain": [
       "<matplotlib.figure.Figure at 0x7f78898>"
      ]
     },
     "metadata": {},
     "output_type": "display_data"
    }
   ],
   "source": [
    "fig, ax = plt.subplots(1, 1)\n",
    "ax.plot(x1, output, \"o\")\n",
    "ax.set_xlim(-0.5, max(x1)+5)\n",
    "ax.set_ylim(0, 1.5)"
   ]
  },
  {
   "cell_type": "code",
   "execution_count": 21,
   "metadata": {
    "collapsed": false
   },
   "outputs": [
    {
     "data": {
      "text/plain": [
       "array([ 0.43422457,  1.34176123,  1.5362264 ,  0.45576655,  0.68017109,\n",
       "        2.27835967,  0.57072868,  0.68679069,  0.40627962,  1.2370785 ])"
      ]
     },
     "execution_count": 21,
     "metadata": {},
     "output_type": "execute_result"
    }
   ],
   "source": [
    "n = 10\n",
    "prob2 = 0.001\n",
    "intervals = stats.expon.rvs(prob2, size = n)\n",
    "\n",
    "intervals"
   ]
  },
  {
   "cell_type": "code",
   "execution_count": 22,
   "metadata": {
    "collapsed": false
   },
   "outputs": [
    {
     "data": {
      "text/plain": [
       "(0, 1.5)"
      ]
     },
     "execution_count": 22,
     "metadata": {},
     "output_type": "execute_result"
    },
    {
     "data": {
      "image/png": "[encoded data removed]",
      "text/plain": [
       "<matplotlib.figure.Figure at 0x8012438>"
      ]
     },
     "metadata": {},
     "output_type": "display_data"
    }
   ],
   "source": [
    "x1 = [sum(intervals[0:idx]) for idx in range(n)]\n",
    "output = [1 for dummyNum in range(n)]\n",
    "\n",
    "fig, ax = plt.subplots(1, 1)\n",
    "ax.plot(x1, output, \"o\")\n",
    "ax.set_xlim(-0.5, max(x1)+5)\n",
    "ax.set_ylim(0, 1.5)"
   ]
  },
  {
   "cell_type": "code",
   "execution_count": null,
   "metadata": {
    "collapsed": true
   },
   "outputs": [],
   "source": []
  },
  {
   "cell_type": "code",
   "execution_count": null,
   "metadata": {
    "collapsed": true
   },
   "outputs": [],
   "source": []
  },
  {
   "cell_type": "code",
   "execution_count": null,
   "metadata": {
    "collapsed": true
   },
   "outputs": [],
   "source": []
  },
  {
   "cell_type": "code",
   "execution_count": null,
   "metadata": {
    "collapsed": true
   },
   "outputs": [],
   "source": []
  },
  {
   "cell_type": "markdown",
   "metadata": {},
   "source": [
    "# Gaussian Process"
   ]
  },
  {
   "cell_type": "code",
   "execution_count": 128,
   "metadata": {
    "collapsed": false
   },
   "outputs": [
    {
     "data": {
      "text/plain": [
       "array([-0.07690642, -1.11896387, -0.14375301,  0.33253773, -0.61556376])"
      ]
     },
     "execution_count": 128,
     "metadata": {},
     "output_type": "execute_result"
    }
   ],
   "source": [
    "stats.multivariate_normal.rvs(mu, cov, 1)"
   ]
  },
  {
   "cell_type": "code",
   "execution_count": 142,
   "metadata": {
    "collapsed": false
   },
   "outputs": [
    {
     "data": {
      "text/plain": [
       "(-5, 5)"
      ]
     },
     "execution_count": 142,
     "metadata": {},
     "output_type": "execute_result"
    },
    {
     "data": {
      "text/plain": [
       "<matplotlib.figure.Figure at 0x9ecdc88>"
      ]
     },
     "metadata": {},
     "output_type": "display_data"
    },
    {
     "data": {
      "image/png": "[encoded data removed]",
      "text/plain": [
       "<matplotlib.figure.Figure at 0xc2b8a90>"
      ]
     },
     "metadata": {},
     "output_type": "display_data"
    }
   ],
   "source": [
    "p = 100\n",
    "n = 1\n",
    "\n",
    "mu = np.array([0 for dummyNum in range(p)])\n",
    "cov = np.eye(p)\n",
    "x = stats.multivariate_normal.rvs(mu, cov, n)\n",
    "\n",
    "#\n",
    "plt.subplots_adjust(hspace = 1)\n",
    "fig, ax = plt.subplots(1, 1)\n",
    "\n",
    "ax.set_title(\"Gaussian Process\")\n",
    "ax.plot(range(p), x, '-o', markersize = 3)\n",
    "ax.set_xlim([-0.5, p])\n",
    "ax.set_ylim([-5, 5])"
   ]
  },
  {
   "cell_type": "code",
   "execution_count": 6,
   "metadata": {
    "collapsed": false
   },
   "outputs": [],
   "source": [
    "def KernelSE(i, j, sigma = 1, L = 1):\n",
    "    return sigma**2 * np.e ** (- 1/(2*L**2) * (i-j)**2 )"
   ]
  },
  {
   "cell_type": "code",
   "execution_count": 23,
   "metadata": {
    "collapsed": false
   },
   "outputs": [
    {
     "data": {
      "text/plain": [
       "array([[ 100.        ,   99.980002  ,   99.92003199,   99.8201619 ,\n",
       "          99.68051145,   99.50124792,   99.28258579,   99.02478635,\n",
       "          98.72815716,   98.39305143],\n",
       "       [  99.980002  ,  100.        ,   99.980002  ,   99.92003199,\n",
       "          99.8201619 ,   99.68051145,   99.50124792,   99.28258579,\n",
       "          99.02478635,   98.72815716],\n",
       "       [  99.92003199,   99.980002  ,  100.        ,   99.980002  ,\n",
       "          99.92003199,   99.8201619 ,   99.68051145,   99.50124792,\n",
       "          99.28258579,   99.02478635],\n",
       "       [  99.8201619 ,   99.92003199,   99.980002  ,  100.        ,\n",
       "          99.980002  ,   99.92003199,   99.8201619 ,   99.68051145,\n",
       "          99.50124792,   99.28258579],\n",
       "       [  99.68051145,   99.8201619 ,   99.92003199,   99.980002  ,\n",
       "         100.        ,   99.980002  ,   99.92003199,   99.8201619 ,\n",
       "          99.68051145,   99.50124792],\n",
       "       [  99.50124792,   99.68051145,   99.8201619 ,   99.92003199,\n",
       "          99.980002  ,  100.        ,   99.980002  ,   99.92003199,\n",
       "          99.8201619 ,   99.68051145],\n",
       "       [  99.28258579,   99.50124792,   99.68051145,   99.8201619 ,\n",
       "          99.92003199,   99.980002  ,  100.        ,   99.980002  ,\n",
       "          99.92003199,   99.8201619 ],\n",
       "       [  99.02478635,   99.28258579,   99.50124792,   99.68051145,\n",
       "          99.8201619 ,   99.92003199,   99.980002  ,  100.        ,\n",
       "          99.980002  ,   99.92003199],\n",
       "       [  98.72815716,   99.02478635,   99.28258579,   99.50124792,\n",
       "          99.68051145,   99.8201619 ,   99.92003199,   99.980002  ,\n",
       "         100.        ,   99.980002  ],\n",
       "       [  98.39305143,   98.72815716,   99.02478635,   99.28258579,\n",
       "          99.50124792,   99.68051145,   99.8201619 ,   99.92003199,\n",
       "          99.980002  ,  100.        ]])"
      ]
     },
     "execution_count": 23,
     "metadata": {},
     "output_type": "execute_result"
    }
   ],
   "source": [
    "p = 10\n",
    "sigma = 10\n",
    "L = 50\n",
    "COV = np.zeros(shape=(p, p))\n",
    "for i in range(p):\n",
    "    for j in range(p):\n",
    "        COV[i, j] = KernelSE(i, j, sigma=sigma, L=L)\n",
    "\n",
    "COV"
   ]
  },
  {
   "cell_type": "code",
   "execution_count": 24,
   "metadata": {
    "collapsed": false
   },
   "outputs": [
    {
     "name": "stderr",
     "output_type": "stream",
     "text": [
      "C:\\Users\\clinton\\OneDrive\\2_Software_Code\\Anaconda3\\lib\\site-packages\\scipy\\stats\\_multivariate.py:457: RuntimeWarning: covariance is not positive-semidefinite.\n",
      "  out = np.random.multivariate_normal(mean, cov, size)\n"
     ]
    },
    {
     "data": {
      "text/plain": [
       "(-0.5, 10)"
      ]
     },
     "execution_count": 24,
     "metadata": {},
     "output_type": "execute_result"
    },
    {
     "data": {
      "image/png": "[encoded data removed]",
      "text/plain": [
       "<matplotlib.figure.Figure at 0x562a978>"
      ]
     },
     "metadata": {},
     "output_type": "display_data"
    }
   ],
   "source": [
    "n = 10\n",
    "\n",
    "mu = np.array([0 for dummyNum in range(p)])\n",
    "cov = COV\n",
    "x = stats.multivariate_normal.rvs(mu, cov, n)\n",
    "\n",
    "#\n",
    "fig, ax = plt.subplots(1, 1)\n",
    "\n",
    "ax.set_title(\"Gaussian Process\")\n",
    "for idx in range(n):\n",
    "    ax.plot(range(p), x[idx,], '-', markersize = 3)\n",
    "\n",
    "ax.set_xlim([-0.5, p])\n",
    "#ax.set_ylim([-5, 5])"
   ]
  },
  {
   "cell_type": "code",
   "execution_count": 24,
   "metadata": {
    "collapsed": false
   },
   "outputs": [
    {
     "data": {
      "text/plain": [
       "array([ 8.93365984,  8.98012979,  9.01550141,  9.03977808,  9.05298324])"
      ]
     },
     "execution_count": 24,
     "metadata": {},
     "output_type": "execute_result"
    }
   ],
   "source": [
    "x"
   ]
  },
  {
   "cell_type": "code",
   "execution_count": 8,
   "metadata": {
    "collapsed": false
   },
   "outputs": [
    {
     "data": {
      "text/plain": [
       "array([[ 49.        ,  29.72000233,   0.21866165],\n",
       "       [ 29.72000233,  49.        ,   3.56003472],\n",
       "       [  0.21866165,   3.56003472,  49.        ]])"
      ]
     },
     "execution_count": 8,
     "metadata": {},
     "output_type": "execute_result"
    }
   ],
   "source": [
    "COV = np.zeros(shape=(3, 3))\n",
    "\n",
    "Ts = [700, 800, 1029]\n",
    "sigma = 7\n",
    "L = 100\n",
    "\n",
    "for i in range(3):\n",
    "    for j in range(3):\n",
    "        #COV[i, j] = sigma**2 * np.e**( -1 / 2 / L**2 * (Ts[i] - Ts[j])**2 )\n",
    "        COV[i, j] = KernelSE(Ts[i], Ts[j], sigma, L)\n",
    "\n",
    "COV"
   ]
  },
  {
   "cell_type": "code",
   "execution_count": 9,
   "metadata": {
    "collapsed": false
   },
   "outputs": [
    {
     "data": {
      "text/plain": [
       "array([[ 49.        ,  48.02973499,  39.46200452],\n",
       "       [ 48.02973499,  49.        ,  44.12110759],\n",
       "       [ 39.46200452,  44.12110759,  49.        ]])"
      ]
     },
     "execution_count": 9,
     "metadata": {},
     "output_type": "execute_result"
    }
   ],
   "source": [
    "Ts = [700, 800, 1029]\n",
    "sigma = 7\n",
    "L = 500\n",
    "\n",
    "for i in range(3):\n",
    "    for j in range(3):\n",
    "        #COV[i, j] = sigma**2 * np.e**( -1 / 2 / L**2 * (Ts[i] - Ts[j])**2 )\n",
    "        COV[i, j] = KernelSE(Ts[i], Ts[j], sigma, L)\n",
    "\n",
    "COV"
   ]
  },
  {
   "cell_type": "code",
   "execution_count": 10,
   "metadata": {
    "collapsed": false
   },
   "outputs": [
    {
     "data": {
      "text/plain": [
       "array([[  4.90000000e+01,   6.63142888e+00,   1.94313188e-08],\n",
       "       [  6.63142888e+00,   4.90000000e+01,   1.36530190e-03],\n",
       "       [  1.94313188e-08,   1.36530190e-03,   4.90000000e+01]])"
      ]
     },
     "execution_count": 10,
     "metadata": {},
     "output_type": "execute_result"
    }
   ],
   "source": [
    "Ts = [700, 800, 1029]\n",
    "sigma = 7\n",
    "L = 50\n",
    "\n",
    "for i in range(3):\n",
    "    for j in range(3):\n",
    "        #COV[i, j] = sigma**2 * np.e**( -1 / 2 / L**2 * (Ts[i] - Ts[j])**2 )\n",
    "        COV[i, j] = KernelSE(Ts[i], Ts[j], sigma, L)\n",
    "\n",
    "COV"
   ]
  },
  {
   "cell_type": "code",
   "execution_count": 11,
   "metadata": {
    "collapsed": false
   },
   "outputs": [
    {
     "data": {
      "text/plain": [
       "array([[ 196.        ,  118.8800093 ,    0.87464662],\n",
       "       [ 118.8800093 ,  196.        ,   14.24013889],\n",
       "       [   0.87464662,   14.24013889,  196.        ]])"
      ]
     },
     "execution_count": 11,
     "metadata": {},
     "output_type": "execute_result"
    }
   ],
   "source": [
    "Ts = [700, 800, 1029]\n",
    "sigma = 14\n",
    "L = 100\n",
    "\n",
    "for i in range(3):\n",
    "    for j in range(3):\n",
    "        #COV[i, j] = sigma**2 * np.e**( -1 / 2 / L**2 * (Ts[i] - Ts[j])**2 )\n",
    "        COV[i, j] = KernelSE(Ts[i], Ts[j], sigma, L)\n",
    "\n",
    "COV"
   ]
  },
  {
   "cell_type": "code",
   "execution_count": 13,
   "metadata": {
    "collapsed": false
   },
   "outputs": [
    {
     "data": {
      "text/plain": [
       "array([[ 49.        ,  48.99755006,  48.99020098],\n",
       "       [ 48.99755006,  49.        ,  48.99755006],\n",
       "       [ 48.99020098,  48.99755006,  49.        ]])"
      ]
     },
     "execution_count": 13,
     "metadata": {},
     "output_type": "execute_result"
    }
   ],
   "source": [
    "Ts = range(5)\n",
    "sigma = 7\n",
    "L = 100\n",
    "\n",
    "for i in range(3):\n",
    "    for j in range(3):\n",
    "        #COV[i, j] = sigma**2 * np.e**( -1 / 2 / L**2 * (Ts[i] - Ts[j])**2 )\n",
    "        COV[i, j] = KernelSE(Ts[i], Ts[j], sigma, L)\n",
    "\n",
    "COV"
   ]
  },
  {
   "cell_type": "code",
   "execution_count": 44,
   "metadata": {
    "collapsed": false
   },
   "outputs": [
    {
     "data": {
      "text/plain": [
       "array([[  7.00000000e+00,   0.00000000e+00,   0.00000000e+00,\n",
       "          0.00000000e+00,   0.00000000e+00],\n",
       "       [  6.99965001e+00,   6.99982500e-02,   0.00000000e+00,\n",
       "          0.00000000e+00,   0.00000000e+00],\n",
       "       [  6.99860014e+00,   1.39982501e-01,   9.89875249e-04,\n",
       "          0.00000000e+00,   0.00000000e+00],\n",
       "       [  6.99685071e+00,   2.09931762e-01,   2.96918036e-03,\n",
       "          1.71431924e-05,   0.00000000e+00],\n",
       "       [  6.99440224e+00,   2.79825056e-01,   5.93687634e-03,\n",
       "          6.85618321e-05,   1.83600508e-07]])"
      ]
     },
     "execution_count": 44,
     "metadata": {},
     "output_type": "execute_result"
    }
   ],
   "source": [
    "np.linalg.cholesky(COV)"
   ]
  },
  {
   "cell_type": "code",
   "execution_count": 43,
   "metadata": {
    "collapsed": false
   },
   "outputs": [
    {
     "name": "stderr",
     "output_type": "stream",
     "text": [
      "C:\\Users\\clinton\\OneDrive\\2_Software_Code\\Anaconda3\\lib\\site-packages\\scipy\\stats\\_multivariate.py:457: RuntimeWarning: covariance is not positive-semidefinite.\n",
      "  out = np.random.multivariate_normal(mean, cov, size)\n"
     ]
    },
    {
     "data": {
      "text/plain": [
       "array([[ 49.        ,  48.99755006,  48.99020098,  48.97795496,\n",
       "         48.96081568],\n",
       "       [ 48.99755006,  49.        ,  48.99755006,  48.99020098,\n",
       "         48.97795496],\n",
       "       [ 48.99020098,  48.99755006,  49.        ,  48.99755006,\n",
       "         48.99020098],\n",
       "       [ 48.97795496,  48.99020098,  48.99755006,  49.        ,\n",
       "         48.99755006],\n",
       "       [ 48.96081568,  48.97795496,  48.99020098,  48.99755006,  49.        ]])"
      ]
     },
     "execution_count": 43,
     "metadata": {},
     "output_type": "execute_result"
    }
   ],
   "source": [
    "p = 5\n",
    "Ts = range(0, p)\n",
    "#Ts = [700, 800, 1029]\n",
    "sigma = 7\n",
    "L = 100\n",
    "mu = np.array([0 for dummyNum in range(p)])\n",
    "COV = np.zeros(shape=(p, p))\n",
    "for i in range(p):\n",
    "    for j in range(p):\n",
    "        COV[i, j] = KernelSE(Ts[i], Ts[j], sigma=sigma, L=L)\n",
    "\n",
    "x = stats.multivariate_normal.rvs(mu, COV, n)\n",
    "COV"
   ]
  },
  {
   "cell_type": "code",
   "execution_count": null,
   "metadata": {
    "collapsed": true
   },
   "outputs": [],
   "source": []
  },
  {
   "cell_type": "code",
   "execution_count": null,
   "metadata": {
    "collapsed": true
   },
   "outputs": [],
   "source": []
  }
 ],
 "metadata": {
  "kernelspec": {
   "display_name": "Python 3",
   "language": "python",
   "name": "python3"
  },
  "language_info": {
   "codemirror_mode": {
    "name": "ipython",
    "version": 3
   },
   "file_extension": ".py",
   "mimetype": "text/x-python",
   "name": "python",
   "nbconvert_exporter": "python",
   "pygments_lexer": "ipython3",
   "version": "3.4.3"
  }
 },
 "nbformat": 4,
 "nbformat_minor": 0
}
